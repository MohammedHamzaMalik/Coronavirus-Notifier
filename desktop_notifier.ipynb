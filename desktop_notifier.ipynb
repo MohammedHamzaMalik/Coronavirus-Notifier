{
 "cells": [
  {
   "cell_type": "code",
   "execution_count": 1,
   "metadata": {},
   "outputs": [
    {
     "name": "stdout",
     "output_type": "stream",
     "text": [
      "Requirement already satisfied: plyer in c:\\users\\hp\\anaconda3\\lib\\site-packages (1.4.3)\n",
      "Note: you may need to restart the kernel to use updated packages.\n"
     ]
    }
   ],
   "source": [
    "pip install plyer"
   ]
  },
  {
   "cell_type": "code",
   "execution_count": 2,
   "metadata": {},
   "outputs": [],
   "source": [
    "import time\n",
    "import datetime  #For reading present date\n",
    "import requests  #For retrieving coronavirus data from web\n",
    "from plyer import notification  #For getting notification on your computer"
   ]
  },
  {
   "cell_type": "code",
   "execution_count": null,
   "metadata": {},
   "outputs": [],
   "source": [
    "covidData = None  # Initially assuming there is no data\n",
    "\n",
    "try:\n",
    "    covidData = requests.get(\"https://corona-rest-api.herokuapp.com/Api/india\")\n",
    "except:\n",
    "    print(\"Please! Check your internet connection\")  # If there is network issue\n",
    "\n",
    "# If we fetched the data\n",
    "\n",
    "if covidData != None:\n",
    "    data = covidData.json()['Success']  # Converting the data into json format\n",
    "\n",
    "    while True:  # Repeating the loop for multiple times\n",
    "        notification.notify(\n",
    "            # giving the title of notification\n",
    "            title=(\"Coronavirus Stats on {}\".format(datetime.date.today())),\n",
    "            # body of notification\n",
    "            # the message which will be shown in the notification\n",
    "            message=\"Total cases : {totalcases}\\nToday cases : {todaycases}\\nToday deaths : {todaydeaths}\\nTotal \"\n",
    "                    \"active : {active}\".format(\n",
    "                totalcases=data['cases'], todaycases=data['todayCases'], todaydeaths=data['todayDeaths'],\n",
    "                active= data['active']),\n",
    "            # Creating icon for notification\n",
    "            app_icon=\"C:\\\\Users\\\\hp\\\\PycharmProjects\\\\Python Projects\\\\Desktop Notifier\\\\Paomedia-Small-N-Flat-Bell.ico\",\n",
    "            # Amount of time for which the notification will stay on the screen\n",
    "            timeout=50\n",
    "        )\n",
    "\n",
    "        # Giving the sleep time for the notification, the notifiaction will repeat after the specific interval\n",
    "        time.sleep(60 * 60 * 4)  # sleep for 4hrs"
   ]
  },
  {
   "cell_type": "markdown",
   "metadata": {},
   "source": [
    "# Running the Notifier in Background"
   ]
  },
  {
   "cell_type": "markdown",
   "metadata": {},
   "source": [
    "## To make this Desktop Notifier run in background type the following command in your command prompt if you are using Windows"
   ]
  },
  {
   "cell_type": "markdown",
   "metadata": {},
   "source": [
    "*Note : Change the \"file_name\" with your file name*"
   ]
  },
  {
   "cell_type": "markdown",
   "metadata": {},
   "source": [
    "pythonw.exe .\\file_name"
   ]
  },
  {
   "cell_type": "markdown",
   "metadata": {},
   "source": [
    "### Welldone, now you will be receiving the notification in your given time interval"
   ]
  },
  {
   "cell_type": "markdown",
   "metadata": {},
   "source": [
    "*To check whether your application is running or not, you can open the task manager and check the ongoing tasks, you will notice that the Python program is ongoing there*"
   ]
  }
 ],
 "metadata": {
  "kernelspec": {
   "display_name": "Python 3",
   "language": "python",
   "name": "python3"
  },
  "language_info": {
   "codemirror_mode": {
    "name": "ipython",
    "version": 3
   },
   "file_extension": ".py",
   "mimetype": "text/x-python",
   "name": "python",
   "nbconvert_exporter": "python",
   "pygments_lexer": "ipython3",
   "version": "3.7.4"
  }
 },
 "nbformat": 4,
 "nbformat_minor": 2
}
